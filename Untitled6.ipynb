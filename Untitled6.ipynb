{
  "nbformat": 4,
  "nbformat_minor": 0,
  "metadata": {
    "colab": {
      "name": "Untitled6.ipynb",
      "provenance": [],
      "mount_file_id": "1oRl1LyivTc52iQRKO690MUd4OjRe_7lP",
      "authorship_tag": "ABX9TyOnzpj/+zrAn5a5faf3OSr0",
      "include_colab_link": true
    },
    "kernelspec": {
      "name": "python3",
      "display_name": "Python 3"
    }
  },
  "cells": [
    {
      "cell_type": "markdown",
      "metadata": {
        "id": "view-in-github",
        "colab_type": "text"
      },
      "source": [
        "<a href=\"https://colab.research.google.com/github/atulcoin/cnn-assingment/blob/master/Untitled6.ipynb\" target=\"_parent\"><img src=\"https://colab.research.google.com/assets/colab-badge.svg\" alt=\"Open In Colab\"/></a>"
      ]
    },
    {
      "cell_type": "code",
      "metadata": {
        "id": "PwE8fgLauTth",
        "colab_type": "code",
        "colab": {}
      },
      "source": [
        "import os\n",
        "from PIL import Image\n",
        "import numpy as np\n",
        "import tensorflow as tf\n",
        "import matplotlib.pyplot as plt"
      ],
      "execution_count": 1,
      "outputs": []
    },
    {
      "cell_type": "code",
      "metadata": {
        "id": "2xGUfSYs3aV0",
        "colab_type": "code",
        "colab": {}
      },
      "source": [
        "bpath = '/content/drive/My Drive/Dataset'\n",
        "image_dir = os.path.join(bpath, \"train\")"
      ],
      "execution_count": 2,
      "outputs": []
    },
    {
      "cell_type": "code",
      "metadata": {
        "id": "nTjc6_Rq4lbi",
        "colab_type": "code",
        "colab": {}
      },
      "source": [
        "y_label = []\n",
        "x_train = []\n",
        "\n",
        "#count = 0\n",
        "\n",
        "current_id=0\n",
        "label_id={}\n",
        "\n",
        "\n",
        "for root, dirs, files in os.walk(image_dir):\n",
        "    for file in files:\n",
        "        if file.endswith(\"png\"):\n",
        "            label = os.path.basename(root).replace(\" \",\"-\").lower() #we can replace os.path.dirname(path) with root also\n",
        "            path = os.path.join(root,file)\n",
        "            #print(label,path)\n",
        "            \n",
        "            if not label in label_id:\n",
        "              #count +=1\n",
        "             # print(count)\n",
        "             # print(\"hi\")\n",
        "              label_id[label] = current_id\n",
        "              current_id +=1\n",
        "            id_= label_id[label]\n",
        "            #print(id_)\n",
        "            #y_label.append(label)\n",
        "            #x_train.append(path)\n",
        "            \n",
        "            #pil_image=  Image.open(path).convert(\"L\") # L will convert in gray\n",
        "            pil_image=  Image.open(path).convert(\"L\") # L to convert image in grey pil image is used to tell sysetem that the file in location is image file\n",
        "            image_arra=  np.array(pil_image,\"uint8\")\n",
        "            #print(image_arra)\n",
        "            \n",
        "            y_label.append(id_)\n",
        "            x_train.append(image_arra)\n",
        "#print(y_label)"
      ],
      "execution_count": 3,
      "outputs": []
    },
    {
      "cell_type": "code",
      "metadata": {
        "id": "2h9iTrlz6JQh",
        "colab_type": "code",
        "colab": {
          "base_uri": "https://localhost:8080/",
          "height": 287
        },
        "outputId": "a4d81bc0-4488-4253-d2be-92fd377f179d"
      },
      "source": [
        "image_index = 305\n",
        "print(y_label[image_index])\n",
        "plt.imshow(x_train[image_index], cmap='Greys')\n",
        "plt.show()"
      ],
      "execution_count": 5,
      "outputs": [
        {
          "output_type": "stream",
          "text": [
            "3\n"
          ],
          "name": "stdout"
        },
        {
          "output_type": "display_data",
          "data": {
            "image/png": "[encoded data removed]",
            "text/plain": [
              "<Figure size 432x288 with 1 Axes>"
            ]
          },
          "metadata": {
            "tags": [],
            "needs_background": "light"
          }
        }
      ]
    },
    {
      "cell_type": "code",
      "metadata": {
        "id": "sDeeeNQh6Y7F",
        "colab_type": "code",
        "colab": {
          "base_uri": "https://localhost:8080/",
          "height": 35
        },
        "outputId": "b5f4a1fa-ec4b-422a-b756-50359270df8a"
      },
      "source": [
        "x_train[image_index].shape # here we have gotted shape of a image in idex number."
      ],
      "execution_count": 6,
      "outputs": [
        {
          "output_type": "execute_result",
          "data": {
            "text/plain": [
              "(800, 800)"
            ]
          },
          "metadata": {
            "tags": []
          },
          "execution_count": 6
        }
      ]
    },
    {
      "cell_type": "code",
      "metadata": {
        "id": "eiYgjuVi1fgL",
        "colab_type": "code",
        "colab": {
          "base_uri": "https://localhost:8080/",
          "height": 35
        },
        "outputId": "d9a06e66-e834-40e2-e32b-9b72e3c42f53"
      },
      "source": [
        "type(x_train) "
      ],
      "execution_count": 7,
      "outputs": [
        {
          "output_type": "execute_result",
          "data": {
            "text/plain": [
              "list"
            ]
          },
          "metadata": {
            "tags": []
          },
          "execution_count": 7
        }
      ]
    },
    {
      "cell_type": "code",
      "metadata": {
        "id": "0tjO9hqC1uXf",
        "colab_type": "code",
        "colab": {
          "base_uri": "https://localhost:8080/",
          "height": 35
        },
        "outputId": "1085856c-6ad3-43ae-8d7e-fbb908d74c8b"
      },
      "source": [
        "type(y_label)"
      ],
      "execution_count": 8,
      "outputs": [
        {
          "output_type": "execute_result",
          "data": {
            "text/plain": [
              "list"
            ]
          },
          "metadata": {
            "tags": []
          },
          "execution_count": 8
        }
      ]
    },
    {
      "cell_type": "code",
      "metadata": {
        "id": "MIujIjT12AYz",
        "colab_type": "code",
        "colab": {}
      },
      "source": [
        "#both are list"
      ],
      "execution_count": 9,
      "outputs": []
    },
    {
      "cell_type": "code",
      "metadata": {
        "id": "ioyyZv0d2Ehk",
        "colab_type": "code",
        "colab": {
          "base_uri": "https://localhost:8080/",
          "height": 35
        },
        "outputId": "a3c2de5e-e6a9-492a-e585-88a506cadb9d"
      },
      "source": [
        "len(y_label)"
      ],
      "execution_count": 10,
      "outputs": [
        {
          "output_type": "execute_result",
          "data": {
            "text/plain": [
              "394"
            ]
          },
          "metadata": {
            "tags": []
          },
          "execution_count": 10
        }
      ]
    },
    {
      "cell_type": "code",
      "metadata": {
        "id": "8EPDyvJs2UzV",
        "colab_type": "code",
        "colab": {
          "base_uri": "https://localhost:8080/",
          "height": 35
        },
        "outputId": "4160cab1-f997-40d1-a280-3b65d45049c6"
      },
      "source": [
        "len(x_train)"
      ],
      "execution_count": 11,
      "outputs": [
        {
          "output_type": "execute_result",
          "data": {
            "text/plain": [
              "394"
            ]
          },
          "metadata": {
            "tags": []
          },
          "execution_count": 11
        }
      ]
    },
    {
      "cell_type": "code",
      "metadata": {
        "id": "VnjVWGVK2wq0",
        "colab_type": "code",
        "colab": {}
      },
      "source": [
        "x_train = np.array(x_train)"
      ],
      "execution_count": 12,
      "outputs": []
    },
    {
      "cell_type": "code",
      "metadata": {
        "id": "Fg4AiDBP5MRW",
        "colab_type": "code",
        "colab": {
          "base_uri": "https://localhost:8080/",
          "height": 35
        },
        "outputId": "a85cd6dd-adc1-4e73-f42d-16b719418382"
      },
      "source": [
        "x_train.shape "
      ],
      "execution_count": 13,
      "outputs": [
        {
          "output_type": "execute_result",
          "data": {
            "text/plain": [
              "(394, 800, 800)"
            ]
          },
          "metadata": {
            "tags": []
          },
          "execution_count": 13
        }
      ]
    },
    {
      "cell_type": "code",
      "metadata": {
        "id": "Ozj9nHeA8_xF",
        "colab_type": "code",
        "colab": {
          "base_uri": "https://localhost:8080/",
          "height": 35
        },
        "outputId": "645efc01-fdb1-4994-cebb-94dfecec9251"
      },
      "source": [
        "y_label = np.array(y_label)\n",
        "y_label.shape"
      ],
      "execution_count": 14,
      "outputs": [
        {
          "output_type": "execute_result",
          "data": {
            "text/plain": [
              "(394,)"
            ]
          },
          "metadata": {
            "tags": []
          },
          "execution_count": 14
        }
      ]
    },
    {
      "cell_type": "code",
      "metadata": {
        "id": "khYmkXjR_Lqo",
        "colab_type": "code",
        "colab": {
          "base_uri": "https://localhost:8080/",
          "height": 287
        },
        "outputId": "fed3c5de-c02d-4d93-d3f5-cbf163859a6c"
      },
      "source": [
        "print(y_label[222])\n",
        "plt.imshow(x_train[222], cmap='Greys')\n",
        "plt.show()"
      ],
      "execution_count": 15,
      "outputs": [
        {
          "output_type": "stream",
          "text": [
            "2\n"
          ],
          "name": "stdout"
        },
        {
          "output_type": "display_data",
          "data": {
            "image/png": "[encoded data removed]",
            "text/plain": [
              "<Figure size 432x288 with 1 Axes>"
            ]
          },
          "metadata": {
            "tags": [],
            "needs_background": "light"
          }
        }
      ]
    },
    {
      "cell_type": "code",
      "metadata": {
        "id": "Z5FCqCbn_Sbo",
        "colab_type": "code",
        "colab": {}
      },
      "source": [
        "x_train = x_train.astype('float32')\n",
        "y_label =y_label.astype('float32')"
      ],
      "execution_count": 16,
      "outputs": []
    },
    {
      "cell_type": "code",
      "metadata": {
        "id": "lDXa7v4bAHnA",
        "colab_type": "code",
        "colab": {}
      },
      "source": [
        "x_train /= 255\n",
        "y_label /=255"
      ],
      "execution_count": 17,
      "outputs": []
    },
    {
      "cell_type": "code",
      "metadata": {
        "id": "graeR8sjAL8E",
        "colab_type": "code",
        "colab": {
          "base_uri": "https://localhost:8080/",
          "height": 54
        },
        "outputId": "c7bb5784-e744-4603-85ec-511c752db357"
      },
      "source": [
        "print('x_train shape:', x_train.shape)\n",
        "print('Number of images in x_train:- ', x_train.shape[0])"
      ],
      "execution_count": 18,
      "outputs": [
        {
          "output_type": "stream",
          "text": [
            "x_train shape: (394, 800, 800)\n",
            "Number of images in x_train:-  394\n"
          ],
          "name": "stdout"
        }
      ]
    },
    {
      "cell_type": "code",
      "metadata": {
        "id": "rzzWdFXMAXTi",
        "colab_type": "code",
        "colab": {}
      },
      "source": [
        "from keras.models import Sequential\n",
        "from keras.layers import Dense, Conv2D, Dropout, Flatten, MaxPooling2D\n",
        "import keras"
      ],
      "execution_count": null,
      "outputs": []
    },
    {
      "cell_type": "code",
      "metadata": {
        "id": "HS6t_psbAsHH",
        "colab_type": "code",
        "colab": {}
      },
      "source": [
        "y_train = keras.utils.to_categorical(y_label)"
      ],
      "execution_count": null,
      "outputs": []
    },
    {
      "cell_type": "code",
      "metadata": {
        "id": "DqRGHpJjNLuC",
        "colab_type": "code",
        "colab": {}
      },
      "source": [
        "input_size = 394\n",
        "output_size = 4\n",
        "hidden_layer_size = 100\n",
        "model = tf.keras.Sequential([\n",
        "        tf.keras.layers.Flatten(input_shape=(800, 800, 1)),\n",
        "        tf.keras.layers.Dense(hidden_layer_size, activation='relu'),\n",
        "        tf.keras.layers.Dense(hidden_layer_size, activation='relu'),\n",
        "       tf.keras.layers.Dense(output_size, activation='softmax')\n",
        "])\n",
        "model.compile(optimizer='adam', loss='sparse_categorical_crossentropy', metrics=['accuracy']) "
      ],
      "execution_count": 42,
      "outputs": []
    },
    {
      "cell_type": "code",
      "metadata": {
        "id": "ImriQE245gtL",
        "colab_type": "code",
        "colab": {
          "base_uri": "https://localhost:8080/",
          "height": 35
        },
        "outputId": "64333a60-b8da-488a-f264-db5ed7d78459"
      },
      "source": [
        "x_train.shape"
      ],
      "execution_count": 33,
      "outputs": [
        {
          "output_type": "execute_result",
          "data": {
            "text/plain": [
              "(394, 800, 800)"
            ]
          },
          "metadata": {
            "tags": []
          },
          "execution_count": 33
        }
      ]
    },
    {
      "cell_type": "code",
      "metadata": {
        "id": "yrgtlBbR5l1k",
        "colab_type": "code",
        "colab": {
          "base_uri": "https://localhost:8080/",
          "height": 35
        },
        "outputId": "a9b74288-fbc1-4877-f15c-debbf0090dd2"
      },
      "source": [
        "y_label.shape"
      ],
      "execution_count": 34,
      "outputs": [
        {
          "output_type": "execute_result",
          "data": {
            "text/plain": [
              "(394,)"
            ]
          },
          "metadata": {
            "tags": []
          },
          "execution_count": 34
        }
      ]
    },
    {
      "cell_type": "code",
      "metadata": {
        "id": "ekOxajTk53RT",
        "colab_type": "code",
        "colab": {}
      },
      "source": [
        "y_label1= y_label.reshape(394,1,1)"
      ],
      "execution_count": 37,
      "outputs": []
    },
    {
      "cell_type": "code",
      "metadata": {
        "id": "5HQWzh_j60vV",
        "colab_type": "code",
        "colab": {
          "base_uri": "https://localhost:8080/",
          "height": 35
        },
        "outputId": "7a2b2162-ad6b-4558-a163-65f0a9785e6a"
      },
      "source": [
        "y_label1.shape"
      ],
      "execution_count": 38,
      "outputs": [
        {
          "output_type": "execute_result",
          "data": {
            "text/plain": [
              "(394, 1, 1)"
            ]
          },
          "metadata": {
            "tags": []
          },
          "execution_count": 38
        }
      ]
    },
    {
      "cell_type": "code",
      "metadata": {
        "id": "rdYj3Z63P3bz",
        "colab_type": "code",
        "colab": {
          "base_uri": "https://localhost:8080/",
          "height": 403
        },
        "outputId": "b01c0324-6f3d-40cf-e920-224a2ad0c1c8"
      },
      "source": [
        "model.fit(x_train, y_label1, epochs=10, validation_data=(x_vali, y_vali), verbose =2)\n",
        "print (\"training complete\")"
      ],
      "execution_count": 49,
      "outputs": [
        {
          "output_type": "stream",
          "text": [
            "Epoch 1/10\n",
            "13/13 - 5s - loss: 0.0000e+00 - accuracy: 0.2716 - val_loss: 1.1627 - val_accuracy: 0.2391\n",
            "Epoch 2/10\n",
            "13/13 - 5s - loss: 0.0000e+00 - accuracy: 0.2716 - val_loss: 1.1627 - val_accuracy: 0.2391\n",
            "Epoch 3/10\n",
            "13/13 - 5s - loss: 0.0000e+00 - accuracy: 0.2716 - val_loss: 1.1627 - val_accuracy: 0.2391\n",
            "Epoch 4/10\n",
            "13/13 - 5s - loss: 0.0000e+00 - accuracy: 0.2716 - val_loss: 1.1627 - val_accuracy: 0.2391\n",
            "Epoch 5/10\n",
            "13/13 - 5s - loss: 0.0000e+00 - accuracy: 0.2716 - val_loss: 1.1627 - val_accuracy: 0.2391\n",
            "Epoch 6/10\n",
            "13/13 - 5s - loss: 0.0000e+00 - accuracy: 0.2716 - val_loss: 1.1627 - val_accuracy: 0.2391\n",
            "Epoch 7/10\n",
            "13/13 - 5s - loss: 0.0000e+00 - accuracy: 0.2716 - val_loss: 1.1627 - val_accuracy: 0.2391\n",
            "Epoch 8/10\n",
            "13/13 - 5s - loss: 0.0000e+00 - accuracy: 0.2716 - val_loss: 1.1627 - val_accuracy: 0.2391\n",
            "Epoch 9/10\n",
            "13/13 - 5s - loss: 0.0000e+00 - accuracy: 0.2716 - val_loss: 1.1627 - val_accuracy: 0.2391\n",
            "Epoch 10/10\n",
            "13/13 - 5s - loss: 0.0000e+00 - accuracy: 0.2716 - val_loss: 1.1627 - val_accuracy: 0.2391\n",
            "training complete\n"
          ],
          "name": "stdout"
        }
      ]
    },
    {
      "cell_type": "code",
      "metadata": {
        "id": "kHBiFcKaTYfh",
        "colab_type": "code",
        "colab": {}
      },
      "source": [
        "tpath = '/content/drive/My Drive/Dataset'\n",
        "timage_dir = os.path.join(tpath, \"test\")"
      ],
      "execution_count": 50,
      "outputs": []
    },
    {
      "cell_type": "code",
      "metadata": {
        "id": "O0hYZvywV2D_",
        "colab_type": "code",
        "colab": {}
      },
      "source": [
        "x_test = []\n",
        "\n",
        "for root, dirs, files in os.walk(timage_dir):\n",
        "    for file in files:\n",
        "        if file.endswith(\"png\"):\n",
        "          pil_image=  Image.open(path).convert(\"L\") # L to convert image in grey pil image is used to tell sysetem that the file in location is image file\n",
        "          image_array=  np.array(pil_image,\"uint8\")\n",
        "          \n",
        "            \n",
        "          x_test.append(image_array)"
      ],
      "execution_count": 51,
      "outputs": []
    },
    {
      "cell_type": "code",
      "metadata": {
        "id": "QZOlgcZdWk1a",
        "colab_type": "code",
        "colab": {
          "base_uri": "https://localhost:8080/",
          "height": 35
        },
        "outputId": "08957e2a-ed30-4347-9024-fa00f672d1de"
      },
      "source": [
        "x_test[5].shape"
      ],
      "execution_count": 52,
      "outputs": [
        {
          "output_type": "execute_result",
          "data": {
            "text/plain": [
              "(800, 800)"
            ]
          },
          "metadata": {
            "tags": []
          },
          "execution_count": 52
        }
      ]
    },
    {
      "cell_type": "code",
      "metadata": {
        "id": "36LXhMdBXSOA",
        "colab_type": "code",
        "colab": {}
      },
      "source": [
        "x_test = np.array(x_test)"
      ],
      "execution_count": 53,
      "outputs": []
    },
    {
      "cell_type": "code",
      "metadata": {
        "id": "bLxKvIvwWz6c",
        "colab_type": "code",
        "colab": {}
      },
      "source": [
        "x_test = x_test.astype('float32')"
      ],
      "execution_count": 54,
      "outputs": []
    },
    {
      "cell_type": "code",
      "metadata": {
        "id": "8cnS4uHbXHsk",
        "colab_type": "code",
        "colab": {}
      },
      "source": [
        "x_test /= 255"
      ],
      "execution_count": 55,
      "outputs": []
    },
    {
      "cell_type": "code",
      "metadata": {
        "id": "jJi0eiGPXapT",
        "colab_type": "code",
        "colab": {
          "base_uri": "https://localhost:8080/",
          "height": 568
        },
        "outputId": "d569f3a3-fc6a-4c35-9e08-c800356a5701"
      },
      "source": [
        "predictions = model.predict(x_test)\n",
        "print(predictions)"
      ],
      "execution_count": 56,
      "outputs": [
        {
          "output_type": "stream",
          "text": [
            "[[1. 0. 0. 0.]\n",
            " [1. 0. 0. 0.]\n",
            " [1. 0. 0. 0.]\n",
            " [1. 0. 0. 0.]\n",
            " [1. 0. 0. 0.]\n",
            " [1. 0. 0. 0.]\n",
            " [1. 0. 0. 0.]\n",
            " [1. 0. 0. 0.]\n",
            " [1. 0. 0. 0.]\n",
            " [1. 0. 0. 0.]\n",
            " [1. 0. 0. 0.]\n",
            " [1. 0. 0. 0.]\n",
            " [1. 0. 0. 0.]\n",
            " [1. 0. 0. 0.]\n",
            " [1. 0. 0. 0.]\n",
            " [1. 0. 0. 0.]\n",
            " [1. 0. 0. 0.]\n",
            " [1. 0. 0. 0.]\n",
            " [1. 0. 0. 0.]\n",
            " [1. 0. 0. 0.]\n",
            " [1. 0. 0. 0.]\n",
            " [1. 0. 0. 0.]\n",
            " [1. 0. 0. 0.]\n",
            " [1. 0. 0. 0.]\n",
            " [1. 0. 0. 0.]\n",
            " [1. 0. 0. 0.]\n",
            " [1. 0. 0. 0.]\n",
            " [1. 0. 0. 0.]\n",
            " [1. 0. 0. 0.]\n",
            " [1. 0. 0. 0.]]\n"
          ],
          "name": "stdout"
        }
      ]
    },
    {
      "cell_type": "code",
      "metadata": {
        "id": "HbpuI9ddXjmL",
        "colab_type": "code",
        "colab": {
          "base_uri": "https://localhost:8080/",
          "height": 311
        },
        "outputId": "f6958900-1d98-44a6-987a-003d4f2a35c8"
      },
      "source": [
        "model.summary()"
      ],
      "execution_count": 57,
      "outputs": [
        {
          "output_type": "stream",
          "text": [
            "Model: \"sequential_2\"\n",
            "_________________________________________________________________\n",
            "Layer (type)                 Output Shape              Param #   \n",
            "=================================================================\n",
            "flatten_2 (Flatten)          (None, 640000)            0         \n",
            "_________________________________________________________________\n",
            "dense_6 (Dense)              (None, 100)               64000100  \n",
            "_________________________________________________________________\n",
            "dense_7 (Dense)              (None, 100)               10100     \n",
            "_________________________________________________________________\n",
            "dense_8 (Dense)              (None, 4)                 404       \n",
            "=================================================================\n",
            "Total params: 64,010,604\n",
            "Trainable params: 64,010,604\n",
            "Non-trainable params: 0\n",
            "_________________________________________________________________\n"
          ],
          "name": "stdout"
        }
      ]
    },
    {
      "cell_type": "code",
      "metadata": {
        "id": "YZqNLg3jX0Ir",
        "colab_type": "code",
        "colab": {}
      },
      "source": [
        "bpath = '/content/drive/My Drive/Dataset'\n",
        "val_dir = os.path.join(bpath, \"validation\")\n",
        "y_vali = []\n",
        "x_vali = []\n",
        "\n",
        "#count = 0\n",
        "\n",
        "current_id=0\n",
        "label_id={}\n",
        "\n",
        "\n",
        "for root, dirs, files in os.walk(val_dir):\n",
        "    for file in files:\n",
        "        if file.endswith(\"png\"):\n",
        "            label = os.path.basename(root).replace(\" \",\"-\").lower() #we can replace os.path.dirname(path) with root also\n",
        "            path = os.path.join(root,file)\n",
        "            #print(label,path)\n",
        "            \n",
        "            if not label in label_id:\n",
        "              #count +=1\n",
        "             # print(count)\n",
        "             # print(\"hi\")\n",
        "              label_id[label] = current_id\n",
        "              current_id +=1\n",
        "            id_= label_id[label]\n",
        "            #print(id_)\n",
        "            #y_label.append(label)\n",
        "            #x_train.append(path)\n",
        "            \n",
        "            #pil_image=  Image.open(path).convert(\"L\") # L will convert in gray\n",
        "            pil_image=  Image.open(path).convert(\"L\") # L to convert image in grey pil image is used to tell sysetem that the file in location is image file\n",
        "            image_arra=  np.array(pil_image,\"uint8\")\n",
        "            #print(image_arra)\n",
        "            \n",
        "            y_vali.append(id_)\n",
        "            x_vali.append(image_arra)\n",
        "#print(y_vali)"
      ],
      "execution_count": 21,
      "outputs": []
    },
    {
      "cell_type": "code",
      "metadata": {
        "id": "TJWi0mZF7VZd",
        "colab_type": "code",
        "colab": {}
      },
      "source": [
        "x_vali = np.array(x_vali)\n",
        "y_vali = np.array(y_vali)\n",
        "x_vali = x_vali.astype('float32')\n",
        "x_vali /= 255.\n",
        "\n",
        "\n",
        "#y_vali.shape\n",
        "#x_vali.shape\n",
        "y_vali = y_vali.reshape(46,1,1)\n",
        "y_vali = y_vali.astype('float32')\n",
        "y_vali /= 255."
      ],
      "execution_count": 25,
      "outputs": []
    },
    {
      "cell_type": "code",
      "metadata": {
        "id": "jnZ-qLjZ8h-4",
        "colab_type": "code",
        "colab": {
          "base_uri": "https://localhost:8080/",
          "height": 35
        },
        "outputId": "4d2fdf21-cf8f-4a3c-f288-096ccec5aa8c"
      },
      "source": [
        "x_vali.shape"
      ],
      "execution_count": 45,
      "outputs": [
        {
          "output_type": "execute_result",
          "data": {
            "text/plain": [
              "(46, 800, 800)"
            ]
          },
          "metadata": {
            "tags": []
          },
          "execution_count": 45
        }
      ]
    },
    {
      "cell_type": "code",
      "metadata": {
        "id": "59sbKefz8nzd",
        "colab_type": "code",
        "colab": {
          "base_uri": "https://localhost:8080/",
          "height": 35
        },
        "outputId": "4ac5d31e-ded8-41d8-a6a1-5684d8dd9657"
      },
      "source": [
        "y_vali.shape"
      ],
      "execution_count": 46,
      "outputs": [
        {
          "output_type": "execute_result",
          "data": {
            "text/plain": [
              "(46, 1, 1)"
            ]
          },
          "metadata": {
            "tags": []
          },
          "execution_count": 46
        }
      ]
    },
    {
      "cell_type": "code",
      "metadata": {
        "id": "ADU27xqj55PC",
        "colab_type": "code",
        "colab": {
          "base_uri": "https://localhost:8080/",
          "height": 35
        },
        "outputId": "c2d16f61-a406-4124-d25b-47779aa3c3f0"
      },
      "source": [
        "test_error_rate = model.evaluate(x_vali, verbose=0)\n",
        "print(\"The mean squared error (MSE) for the test data set is: {}\".format(test_error_rate)) "
      ],
      "execution_count": 58,
      "outputs": [
        {
          "output_type": "stream",
          "text": [
            "The mean squared error (MSE) for the test data set is: [0.0, 0.0]\n"
          ],
          "name": "stdout"
        }
      ]
    },
    {
      "cell_type": "code",
      "metadata": {
        "id": "OQHbw5G_CGkw",
        "colab_type": "code",
        "colab": {
          "base_uri": "https://localhost:8080/",
          "height": 35
        },
        "outputId": "d895cbed-ca4a-4b46-8729-c2acd40c8498"
      },
      "source": [
        "test_error_rate = model.evaluate(x_vali, y_vali, verbose=0)\n",
        "print(\"The mean squared error (MSE) for the test data set is: {}\".format(test_error_rate)) "
      ],
      "execution_count": 59,
      "outputs": [
        {
          "output_type": "stream",
          "text": [
            "The mean squared error (MSE) for the test data set is: [1.162726640701294, 0.239130437374115]\n"
          ],
          "name": "stdout"
        }
      ]
    },
    {
      "cell_type": "code",
      "metadata": {
        "id": "-naCrr_nC6hk",
        "colab_type": "code",
        "colab": {}
      },
      "source": [
        ""
      ],
      "execution_count": null,
      "outputs": []
    }
  ]
}